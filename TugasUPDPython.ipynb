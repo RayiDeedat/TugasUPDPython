{
 "cells": [
  {
   "cell_type": "code",
   "execution_count": 8,
   "metadata": {},
   "outputs": [
    {
     "name": "stdout",
     "output_type": "stream",
     "text": [
      "*******************************\n",
      "Data Inputan\n",
      "Masukan Nis : 456\n",
      "Masukan Nama : jhgfd\n",
      "Masukan Jk : h\n",
      "Masukan Rombel : 8uj\n",
      "Masukan Rayon : 7uj\n",
      "Nilai B. Indonesia : 10\n",
      "Nilai Matematika : 10\n",
      "Nilai B.Inggris : 10\n",
      "********************************\n",
      "Laporan Nilai Akhir Semester\n",
      "SMK WIKRAMA BOGOR\n",
      "--------Data Diri--------\n",
      "NIS    : 456\n",
      "NAMA   : jhgfd\n",
      "JK     : h\n",
      "Rombel : 8uj\n",
      "Rayon  : 7uj\n",
      "--------Nilai--------\n",
      "Bahasa Indonesia = 10\n",
      "Matematika       = 10\n",
      "Bahasa Inggris   = 10\n",
      "Rata Rata = 10.0\n",
      "Tidak Lulus\n"
     ]
    }
   ],
   "source": [
    "print(\"*******************************\")\n",
    "print(\"Data Inputan\")\n",
    "nis = int(input(\"Masukan Nis : \"))\n",
    "nama = str(input(\"Masukan Nama : \"))\n",
    "jk = str(input(\"Masukan Jk : \"))\n",
    "rombel = input(\"Masukan Rombel : \")\n",
    "rayon = input(\"Masukan Rayon : \")\n",
    "nilaiA = int(input(\"Nilai B. Indonesia : \"))\n",
    "nilaiB = int(input(\"Nilai Matematika : \"))\n",
    "nilaiC = int(input(\"Nilai B.Inggris : \"))\n",
    "print(\"********************************\")\n",
    "print(\"Laporan Nilai Akhir Semester\")\n",
    "print(\"SMK WIKRAMA BOGOR\")\n",
    "print(\"--------Data Diri--------\")\n",
    "print(\"NIS    :\",nis)\n",
    "print(\"NAMA   :\",nama)\n",
    "print(\"JK     :\",jk)\n",
    "print(\"Rombel :\",rombel)\n",
    "print(\"Rayon  :\",rayon)\n",
    "print(\"--------Nilai--------\")\n",
    "print(\"Bahasa Indonesia =\",nilaiA)\n",
    "print(\"Matematika       =\",nilaiB)\n",
    "print(\"Bahasa Inggris   =\",nilaiC)\n",
    "rata2 = (nilaiA+nilaiB+nilaiC)/3\n",
    "print(\"Rata Rata =\",rata2)\n",
    "if rata2 >= 75:\n",
    "    print(\"Lulus\")\n",
    "else:\n",
    "    print(\"Tidak Lulus\")\n"
   ]
  },
  {
   "cell_type": "code",
   "execution_count": null,
   "metadata": {},
   "outputs": [],
   "source": []
  }
 ],
 "metadata": {
  "kernelspec": {
   "display_name": "Python 3",
   "language": "python",
   "name": "python3"
  },
  "language_info": {
   "codemirror_mode": {
    "name": "ipython",
    "version": 3
   },
   "file_extension": ".py",
   "mimetype": "text/x-python",
   "name": "python",
   "nbconvert_exporter": "python",
   "pygments_lexer": "ipython3",
   "version": "3.7.1"
  }
 },
 "nbformat": 4,
 "nbformat_minor": 2
}
